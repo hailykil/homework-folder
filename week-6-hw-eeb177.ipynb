{
 "cells": [
  {
   "cell_type": "markdown",
   "metadata": {},
   "source": [
    "![python syntax](/home/eeb177-student/Desktop/eeb-177/homework/python_syntax.png)\n",
    "![string](/home/eeb177-student/Desktop/eeb-177/homework/string.png)\n",
    "![condition and control flow](/home/eeb177-student/Desktop/eeb-177/homework/condition_and_control_flow.png)\n",
    "![function](/home/eeb177-student/Desktop/eeb-177/homework/function.png)\n",
    "![dictionary](/home/eeb177-student/Desktop/eeb-177/homework/dictionary.png)\n",
    "![list_function](/home/eeb177-student/Desktop/eeb-177/homework/list_function.png)\n",
    "![loop](/home/eeb177-student/Desktop/eeb-177/homework/loop.png)\n",
    "![practice makes perfect](/home/eeb177-student/Desktop/eeb-177/homework/practice_makes_perfect.png)"
   ]
  },
  {
   "cell_type": "markdown",
   "metadata": {},
   "source": [
    "### Part 2"
   ]
  },
  {
   "cell_type": "markdown",
   "metadata": {},
   "source": [
    "```\n",
    "\n",
    "process goes like:\n",
    "\n",
    "1. open gencode as dictionary\n",
    "2. split DNA sequence into codons\n",
    "3. look up amino acid for each codon inside the loop of our original code\n",
    "\n",
    "```\n",
    "\n"
   ]
  },
  {
   "cell_type": "code",
   "execution_count": 30,
   "metadata": {
    "collapsed": false
   },
   "outputs": [
    {
     "name": "stdout",
     "output_type": "stream",
     "text": [
      "one codon isATG\n",
      "one codon isTTC\n",
      "one codon isGGT\n",
      "H\n",
      "V\n",
      "MFG\n",
      "MFG\n",
      "MFG\n",
      "MFGK\n",
      "MFG\n",
      "IDR\n",
      "TXD\n"
     ]
    }
   ],
   "source": [
    "gencode = {'ATA':'I', 'ATC':'I', 'ATT':'I', 'ATG':'M','ACA':'T', 'ACC':'T', 'ACG':'T', 'ACT':'T','AAC':'N', 'AAT':'N', 'AAA':'K', 'AAG':'K','AGC':'S', 'AGT':'S', 'AGA':'R', 'AGG':'R','CTA':'L', 'CTC':'L', 'CTG':'L', 'CTT':'L','CCA':'P', 'CCC':'P', 'CCG':'P', 'CCT':'P','CAC':'H', 'CAT':'H', 'CAA':'Q', 'CAG':'Q','CGA':'R', 'CGC':'R', 'CGG':'R', 'CGT':'R','GTA':'V', 'GTC':'V', 'GTG':'V', 'GTT':'V','GCA':'A', 'GCC':'A', 'GCG':'A', 'GCT':'A','GAC':'D', 'GAT':'D', 'GAA':'E', 'GAG':'E','GGA':'G', 'GGC':'G', 'GGG':'G', 'GGT':'G','TCA':'S', 'TCC':'S', 'TCG':'S', 'TCT':'S','TTC':'F', 'TTT':'F', 'TTA':'L', 'TTG':'L','TAC':'Y', 'TAT':'Y', 'TAA':'_', 'TAG':'_','TGC':'C', 'TGT':'C', 'TGA':'_', 'TGG':'W'}\n",
    "\n",
    "dna = \"ATGTTCGGT\"\n",
    "for start in range(0,7,3):\n",
    "    codon = dna[start:start+3]\n",
    "    print(\"one codon is\" + codon)\n",
    "print(gencode['CAT'])\n",
    "print(gencode.get('GTC'))\n",
    "\n",
    "def translate_dna(dna):\n",
    "    last_codon_start = len(dna) - 2\n",
    "    protein = \"\"\n",
    "    for start in range(0,last_codon_start,3):\n",
    "        codon = dna[start:start+3]\n",
    "        aa = gencode.get(codon, 'X')\n",
    "        protein = protein + aa\n",
    "    return protein\n",
    "\n",
    "\n",
    "print(translate_dna(\"ATGTTCGGT\"))\n",
    "print(translate_dna(\"ATGTTCGGTA\"))\n",
    "print(translate_dna(\"ATGTTCGGTAA\"))\n",
    "print(translate_dna(\"ATGTTCGGTAAA\"))\n",
    "\n",
    "# input sequence is easy\n",
    "print(translate_dna(\"ATGTTCGGT\"))\n",
    "# input sequence has incomplete codons at the end\n",
    "print(translate_dna(\"ATCGATCGAT\"))\n",
    "# input sequence contains N\n",
    "print(translate_dna(\"ACGANCGAT\"))\n",
    "\n",
    "# input sequence is easy\n",
    "assert(translate_dna(\"ATGTTCGGT\")) == \"MFG\"\n",
    "# input sequence has incomplete codons at the end\n",
    "assert(translate_dna(\"ATCGATCGAT\")) == \"IDR\"\n",
    "# input sequence contains N\n",
    "assert(translate_dna(\"ACGANCGAT\")) == \"TXD\" "
   ]
  },
  {
   "cell_type": "markdown",
   "metadata": {},
   "source": [
    "### Part 3"
   ]
  },
  {
   "cell_type": "code",
   "execution_count": 35,
   "metadata": {
    "collapsed": true
   },
   "outputs": [],
   "source": [
    "import scipy\n",
    "def build_population(N, p):\n",
    "    population = []\n",
    "    for i in range(N):\n",
    "        allele1 = \"A\"\n",
    "        if scipy.random.rand()>p:\n",
    "            allele1 = \"a\"\n",
    "        allele2 = \"A\"\n",
    "        if scipy.random.rand()>p:\n",
    "            allele2 = \"a\"\n",
    "        population.append((allele1,allele2))\n",
    "    return population"
   ]
  },
  {
   "cell_type": "code",
   "execution_count": 36,
   "metadata": {
    "collapsed": false,
    "scrolled": true
   },
   "outputs": [
    {
     "data": {
      "text/plain": [
       "[('A', 'A'),\n",
       " ('A', 'A'),\n",
       " ('a', 'A'),\n",
       " ('A', 'A'),\n",
       " ('A', 'A'),\n",
       " ('a', 'a'),\n",
       " ('a', 'A'),\n",
       " ('a', 'A'),\n",
       " ('A', 'A'),\n",
       " ('a', 'A')]"
      ]
     },
     "execution_count": 36,
     "metadata": {},
     "output_type": "execute_result"
    }
   ],
   "source": [
    "build_population(10, 0.7)"
   ]
  },
  {
   "cell_type": "code",
   "execution_count": 37,
   "metadata": {
    "collapsed": true
   },
   "outputs": [],
   "source": [
    "def compute_frequencies(population):\n",
    "    AA = population.count(('A', 'A'))\n",
    "    Aa = population.count(('A', 'a'))\n",
    "    aA = population.count(('a', 'A'))\n",
    "    aa = population.count(('a', 'a'))\n",
    "    return({'AA': AA, 'aa': aa, 'Aa':Aa, 'aA':aA})"
   ]
  },
  {
   "cell_type": "code",
   "execution_count": 38,
   "metadata": {
    "collapsed": false
   },
   "outputs": [
    {
     "data": {
      "text/plain": [
       "[('a', 'A'), ('A', 'a'), ('a', 'A'), ('a', 'A'), ('a', 'A'), ('A', 'a')]"
      ]
     },
     "execution_count": 38,
     "metadata": {},
     "output_type": "execute_result"
    }
   ],
   "source": [
    "my_pop = build_population(6, 0.5)\n",
    "my_pop"
   ]
  },
  {
   "cell_type": "code",
   "execution_count": 39,
   "metadata": {
    "collapsed": false
   },
   "outputs": [
    {
     "data": {
      "text/plain": [
       "{'AA': 0, 'Aa': 2, 'aA': 4, 'aa': 0}"
      ]
     },
     "execution_count": 39,
     "metadata": {},
     "output_type": "execute_result"
    }
   ],
   "source": [
    "compute_frequencies(my_pop)"
   ]
  },
  {
   "cell_type": "code",
   "execution_count": 40,
   "metadata": {
    "collapsed": true
   },
   "outputs": [],
   "source": [
    "def reproduce_population(population):\n",
    "    new_generation = []\n",
    "    N = len(population)\n",
    "    for i in range(N):\n",
    "        dad = scipy.random.randint(N)\n",
    "        mom = scipy.random.randint(2)\n",
    "        chr_mom = scipy.random.randint(2)\n",
    "        offspring = (population[mom], population[dad][1-chr_mom])\n",
    "        new_generation.append(offspring)\n",
    "    return(new_generation)"
   ]
  },
  {
   "cell_type": "code",
   "execution_count": 41,
   "metadata": {
    "collapsed": false,
    "scrolled": true
   },
   "outputs": [
    {
     "data": {
      "text/plain": [
       "[(('A', 'a'), 'A'),\n",
       " (('A', 'a'), 'a'),\n",
       " (('a', 'A'), 'A'),\n",
       " (('A', 'a'), 'A'),\n",
       " (('A', 'a'), 'a'),\n",
       " (('a', 'A'), 'a')]"
      ]
     },
     "execution_count": 41,
     "metadata": {},
     "output_type": "execute_result"
    }
   ],
   "source": [
    "reproduce_population(my_pop)"
   ]
  },
  {
   "cell_type": "markdown",
   "metadata": {
    "collapsed": false
   },
   "source": [
    "### Exercise"
   ]
  },
  {
   "cell_type": "code",
   "execution_count": 2,
   "metadata": {
    "collapsed": true
   },
   "outputs": [],
   "source": [
    "import csv"
   ]
  },
  {
   "cell_type": "code",
   "execution_count": 5,
   "metadata": {
    "collapsed": false
   },
   "outputs": [],
   "source": [
    "with open('/home/eeb177-student/Desktop/eeb-177/homework/Jiang2013_data.csv') as csvfile:\n",
    "    reader = csv.DictReader(csvfile, delimiter = '\\t')\n",
    "    taxa = []\n",
    "    r_values = []\n",
    "    for row in reader:\n",
    "        taxa.append(row['Taxon'])\n",
    "        r_values.append(float(row['r']))"
   ]
  },
  {
   "cell_type": "code",
   "execution_count": 6,
   "metadata": {
    "collapsed": false
   },
   "outputs": [
    {
     "data": {
      "text/plain": [
       "[-0.11, 0.38, 0.51, 0.868, 0.297]"
      ]
     },
     "execution_count": 6,
     "metadata": {},
     "output_type": "execute_result"
    }
   ],
   "source": [
    "r_values[:5]"
   ]
  },
  {
   "cell_type": "code",
   "execution_count": 7,
   "metadata": {
    "collapsed": false
   },
   "outputs": [
    {
     "data": {
      "text/plain": [
       "['Fish', 'Fish', 'Fish', 'Amphibian', 'Amphibian']"
      ]
     },
     "execution_count": 7,
     "metadata": {},
     "output_type": "execute_result"
    }
   ],
   "source": [
    "taxa[:5]"
   ]
  },
  {
   "cell_type": "code",
   "execution_count": 12,
   "metadata": {
    "collapsed": true
   },
   "outputs": [],
   "source": [
    "def get_mean_r(names, values, target_taxon = 'Fish'):\n",
    "    n = len(names)\n",
    "    mean_r = 0.0\n",
    "    sample_size = 0\n",
    "    for i in range(n):\n",
    "        if names[i] == target_taxon:\n",
    "            mean_r = mean_r + values[i]\n",
    "            sample_size = sample_size + 1\n",
    "    return mean_r / sample_size"
   ]
  },
  {
   "cell_type": "code",
   "execution_count": 13,
   "metadata": {
    "collapsed": false
   },
   "outputs": [
    {
     "data": {
      "text/plain": [
       "0.39719005173783783"
      ]
     },
     "execution_count": 13,
     "metadata": {},
     "output_type": "execute_result"
    }
   ],
   "source": [
    "get_mean_r(taxa, r_values, target_taxon = 'Fish')"
   ]
  },
  {
   "cell_type": "code",
   "execution_count": 17,
   "metadata": {
    "collapsed": true
   },
   "outputs": [],
   "source": [
    "def get_taxa_list(names):\n",
    "    return(set(names))"
   ]
  },
  {
   "cell_type": "code",
   "execution_count": 19,
   "metadata": {
    "collapsed": false
   },
   "outputs": [
    {
     "data": {
      "text/plain": [
       "{'Amphibian',\n",
       " 'Annelids',\n",
       " 'Bird',\n",
       " 'Chelicerate',\n",
       " 'Crustacean',\n",
       " 'Fish',\n",
       " 'Gastropod',\n",
       " 'Insect',\n",
       " 'Mammal',\n",
       " 'Protist',\n",
       " 'Reptile'}"
      ]
     },
     "execution_count": 19,
     "metadata": {},
     "output_type": "execute_result"
    }
   ],
   "source": [
    "get_taxa_list(taxa)"
   ]
  },
  {
   "cell_type": "code",
   "execution_count": 20,
   "metadata": {
    "collapsed": false
   },
   "outputs": [
    {
     "name": "stdout",
     "output_type": "stream",
     "text": [
      "Amphibian 0.18552824175524468\n",
      "Reptile 0.11750000000000002\n",
      "Crustacean 0.40302827731946345\n",
      "Insect 0.19664531553867934\n",
      "Annelids 0.2\n",
      "Gastropod 0.40099999999999997\n",
      "Bird 0.13175671104423078\n",
      "Fish 0.39719005173783783\n",
      "Mammal 0.009\n",
      "Protist 0.61402\n",
      "Chelicerate 0.49113529650000004\n"
     ]
    }
   ],
   "source": [
    "for t in get_taxa_list(taxa):\n",
    "    print(t, get_mean_r(taxa, r_values, target_taxon = t))"
   ]
  },
  {
   "cell_type": "code",
   "execution_count": 21,
   "metadata": {
    "collapsed": true
   },
   "outputs": [],
   "source": [
    "import scipy\n",
    "def get_p_value_for_mean_r(names, values, target_taxon = 'Fish', num_simulations = 1000):\n",
    "    observed = get_mean_r(names, values, target_taxon)\n",
    "    rnd_names = names[:]\n",
    "    p_value = 0.0\n",
    "    for i in range(num_simulations):\n",
    "        scipy.random.shuffle(rnd_names)\n",
    "        tmp = get_mean_r(rnd_names, values, target_taxon)\n",
    "        if tmp >= observed:\n",
    "            p_value = p_value + 1.0\n",
    "    p_value = p_value / num_simulations\n",
    "    return[target_taxon, round(observed, 3), round(p_value, 5)]"
   ]
  },
  {
   "cell_type": "code",
   "execution_count": 22,
   "metadata": {
    "collapsed": false
   },
   "outputs": [
    {
     "data": {
      "text/plain": [
       "['Fish', 0.397, 0.00348]"
      ]
     },
     "execution_count": 22,
     "metadata": {},
     "output_type": "execute_result"
    }
   ],
   "source": [
    "get_p_value_for_mean_r(taxa, r_values, 'Fish', 50000)"
   ]
  },
  {
   "cell_type": "code",
   "execution_count": 23,
   "metadata": {
    "collapsed": false
   },
   "outputs": [
    {
     "name": "stdout",
     "output_type": "stream",
     "text": [
      "['Amphibian', 0.186, 0.99996]\n",
      "['Reptile', 0.118, 0.93154]\n",
      "['Crustacean', 0.403, 0.0]\n",
      "['Insect', 0.197, 0.9982]\n",
      "['Annelids', 0.2, 0.59116]\n",
      "['Gastropod', 0.401, 0.07914]\n",
      "['Bird', 0.132, 0.9999]\n",
      "['Fish', 0.397, 0.00316]\n",
      "['Mammal', 0.009, 0.84512]\n",
      "['Protist', 0.614, 0.00332]\n",
      "['Chelicerate', 0.491, 0.01132]\n"
     ]
    }
   ],
   "source": [
    "for t in get_taxa_list(taxa):\n",
    "    print(get_p_value_for_mean_r(taxa, r_values, t, 50000))"
   ]
  },
  {
   "cell_type": "code",
   "execution_count": null,
   "metadata": {
    "collapsed": true
   },
   "outputs": [],
   "source": []
  }
 ],
 "metadata": {
  "anaconda-cloud": {},
  "kernelspec": {
   "display_name": "Python [default]",
   "language": "python",
   "name": "python3"
  },
  "language_info": {
   "codemirror_mode": {
    "name": "ipython",
    "version": 3
   },
   "file_extension": ".py",
   "mimetype": "text/x-python",
   "name": "python",
   "nbconvert_exporter": "python",
   "pygments_lexer": "ipython3",
   "version": "3.5.2"
  }
 },
 "nbformat": 4,
 "nbformat_minor": 2
}
