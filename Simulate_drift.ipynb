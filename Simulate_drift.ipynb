{
 "cells": [
  {
   "cell_type": "code",
   "execution_count": null,
   "metadata": {
    "collapsed": true
   },
   "outputs": [],
   "source": [
    "import drift"
   ]
  },
  {
   "cell_type": "code",
   "execution_count": null,
   "metadata": {
    "collapsed": true
   },
   "outputs": [],
   "source": [
    "def simulate_drift(N, p):\n",
    "    my_pop = drift.build_population(N, p)\n",
    "    fixation = False\n",
    "    num_generations = 0\n",
    "    while fixation == False:\n",
    "        genotype_counts = drift.compute_frequencies(my_pop)\n",
    "        if genotype_counts[\"AA\"] == N or genotype_counts[\"aa\"] == N:\n",
    "            print(\"Allele reached fixation at generation\", num_generations)\n",
    "            print(\"The genotype counts are\")\n",
    "            print(genotype_counts)\n",
    "            fixation == True\n",
    "            break\n",
    "        my_pop = drift.reproduce_population(my_pop)\n",
    "        num_generations = num_generations + 1"
   ]
  },
  {
   "cell_type": "code",
   "execution_count": null,
   "metadata": {
    "collapsed": false
   },
   "outputs": [],
   "source": [
    "simulate_drift(100, 0.5)"
   ]
  },
  {
   "cell_type": "markdown",
   "metadata": {
    "collapsed": true
   },
   "source": [
    "# drift importing doesn't work?\n",
    "# simulate drift takes forever working-and end up not working..."
   ]
  },
  {
   "cell_type": "code",
   "execution_count": null,
   "metadata": {
    "collapsed": true
   },
   "outputs": [],
   "source": []
  }
 ],
 "metadata": {
  "anaconda-cloud": {},
  "kernelspec": {
   "display_name": "Python [default]",
   "language": "python",
   "name": "python3"
  },
  "language_info": {
   "codemirror_mode": {
    "name": "ipython",
    "version": 3
   },
   "file_extension": ".py",
   "mimetype": "text/x-python",
   "name": "python",
   "nbconvert_exporter": "python",
   "pygments_lexer": "ipython3",
   "version": "3.5.2"
  }
 },
 "nbformat": 4,
 "nbformat_minor": 2
}
