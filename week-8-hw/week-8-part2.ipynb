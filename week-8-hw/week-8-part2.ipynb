{
 "cells": [
  {
   "cell_type": "code",
   "execution_count": 56,
   "metadata": {
    "collapsed": true
   },
   "outputs": [],
   "source": [
    "infile = \"felis_3.csv\"\n",
    "with open (infile, \"r\") as ff:\n",
    "    felis_recs = ff.readlines()"
   ]
  },
  {
   "cell_type": "code",
   "execution_count": 57,
   "metadata": {
    "collapsed": false
   },
   "outputs": [],
   "source": [
    "from collections import defaultdict\n",
    "species_ranges=defaultdict(list)\n",
    "\n",
    "felis_recs\n",
    "for line in felis_recs:\n",
    "    species=line.split(\",\")[5]\n",
    "    minage=line.split('\",\"')[10]\n",
    "    maxage=line.split('\",\"')[11]\n",
    "    mean_age=(float(minage) + float(maxage)) /2\n",
    "    species_ranges[species].append(mean_age)"
   ]
  },
  {
   "cell_type": "code",
   "execution_count": 58,
   "metadata": {
    "collapsed": false
   },
   "outputs": [],
   "source": [
    "output=open(\"felis_ranges.csv\", \"w\")"
   ]
  },
  {
   "cell_type": "code",
   "execution_count": 59,
   "metadata": {
    "collapsed": false,
    "scrolled": true
   },
   "outputs": [
    {
     "name": "stdout",
     "output_type": "stream",
     "text": [
      "\"Felis \"Felis prisca\" 8.470500000000001 8.470500000000001\n",
      "\"Felis \"Felis silvestris\" 8.470500000000001 8.470500000000001\n",
      "\n",
      "\"Felis \"Felis silvestris\" 0.00585 3.0940000000000003\n",
      "\"Felis \"Felis silvestris\" 0.00585 3.0940000000000003\n",
      "\n",
      "\"Felis \"Felis lacustris\" 3.35 3.35\n",
      "\"Felis \"Felis silvestris\" 3.35 3.35\n",
      "\n",
      "\"Felis \"Felis nigripes\" 1.29985 1.29985\n",
      "\"Felis \"Felis silvestris\" 1.29985 1.29985\n",
      "\n",
      "\"Felis \"Felis obscura\" 3.0940000000000003 4.917\n",
      "\"Felis \"Felis silvestris\" 3.0940000000000003 4.917\n",
      "\n",
      "\"Felis \"Felis rexroadensis\" 3.0940000000000003 7.6000000000000005\n",
      "\"Felis \"Felis silvestris\" 3.0940000000000003 7.6000000000000005\n",
      "\n",
      "\"Felis \"Felis youngi\" 1.29985 1.29985\n",
      "\"Felis \"Felis silvestris\" 1.29985 1.29985\n",
      "\n",
      "\"Felis \"Felis libyca\" 0.00585 3.0940000000000003\n",
      "\"Felis \"Felis silvestris\" 0.00585 3.0940000000000003\n",
      "\n",
      "\"Felis \"Felis domesticus\" 0.06885 0.06885\n",
      "\"Felis \"Felis silvestris\" 0.06885 0.06885\n",
      "\n",
      "\"Felis \"Felis platensis\" 1.29985 1.6845\n",
      "\"Felis \"Felis silvestris\" 1.29985 1.6845\n",
      "\n",
      "\"Felis\" \"Felis\" 0.00585 16.435\n",
      "\"Felis\" \"Felis silvestris\" 0.00585 16.435\n",
      "\n"
     ]
    }
   ],
   "source": [
    "for key in species_ranges.keys():\n",
    "    ages=species_ranges[key]\n",
    "    minage=min(ages)\n",
    "    maxage=max(ages)\n",
    "    genus=key.split(\" \")[0]\n",
    "    print(genus,key,minage,maxage)\n",
    "    \n",
    "    outline=\"{} {} {} {}\\n\".format(genus,species,minage,maxage)\n",
    "    \n",
    "    print(outline)"
   ]
  },
  {
   "cell_type": "code",
   "execution_count": null,
   "metadata": {
    "collapsed": true
   },
   "outputs": [],
   "source": []
  }
 ],
 "metadata": {
  "anaconda-cloud": {},
  "kernelspec": {
   "display_name": "Python [default]",
   "language": "python",
   "name": "python3"
  },
  "language_info": {
   "codemirror_mode": {
    "name": "ipython",
    "version": 3
   },
   "file_extension": ".py",
   "mimetype": "text/x-python",
   "name": "python",
   "nbconvert_exporter": "python",
   "pygments_lexer": "ipython3",
   "version": "3.5.2"
  }
 },
 "nbformat": 4,
 "nbformat_minor": 2
}
